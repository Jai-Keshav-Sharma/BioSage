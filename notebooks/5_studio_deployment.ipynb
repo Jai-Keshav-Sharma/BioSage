{
 "cells": [
  {
   "cell_type": "code",
   "execution_count": 5,
   "id": "f6fc455d",
   "metadata": {},
   "outputs": [
    {
     "name": "stdout",
     "output_type": "stream",
     "text": [
      "Overwriting ../langgraph.json\n"
     ]
    }
   ],
   "source": [
    "%%writefile ../langgraph.json\n",
    "{\n",
    "    \"dependencies\": [\n",
    "        \"langchain\",\n",
    "        \"langchain-openai\", \n",
    "        \"langchain-community\",\n",
    "        \"langchain-huggingface\",\n",
    "        \"langgraph\",\n",
    "        \"qdrant-client\",\n",
    "        \"python-dotenv\",\n",
    "        \"pypdf\",\n",
    "        \"rich\",\n",
    "        \".\"\n",
    "    ],\n",
    "    \"graphs\": {\n",
    "        \"space_biology_agent\": \"./src/studio_agent.py:graph\"\n",
    "    },\n",
    "    \"env\": \".env\",\n",
    "    \"dockerfile_lines\": [\n",
    "        \"RUN pip install --no-cache-dir -e .\"\n",
    "    ]\n",
    "}"
   ]
  },
  {
   "cell_type": "code",
   "execution_count": 6,
   "id": "93f9afc2",
   "metadata": {},
   "outputs": [
    {
     "name": "stdout",
     "output_type": "stream",
     "text": [
      "Writing ../setup.py\n"
     ]
    }
   ],
   "source": [
    "%%writefile ../setup.py\n",
    "\"\"\"\n",
    "Setup configuration for Space Biology Knowledge Engine\n",
    "\"\"\"\n",
    "\n",
    "from setuptools import setup, find_packages\n",
    "\n",
    "setup(\n",
    "    name=\"space-biology-knowledge-engine\",\n",
    "    version=\"0.1.0\",\n",
    "    description=\"AI-powered space biology research assistant\",\n",
    "    packages=find_packages(),\n",
    "    install_requires=[\n",
    "        \"langchain>=0.2.16\",\n",
    "        \"langchain-openai>=0.1.23\",\n",
    "        \"langchain-community>=0.2.16\",\n",
    "        \"langchain-huggingface>=0.0.3\",\n",
    "        \"langgraph>=0.2.14\",\n",
    "        \"qdrant-client>=1.10.1\",\n",
    "        \"python-dotenv>=1.0.1\",\n",
    "        \"pypdf>=4.3.1\",\n",
    "        \"rich>=13.7.1\"\n",
    "    ],\n",
    "    python_requires=\">=3.9\",\n",
    ")"
   ]
  },
  {
   "cell_type": "code",
   "execution_count": 3,
   "id": "7c79814e",
   "metadata": {},
   "outputs": [
    {
     "name": "stdout",
     "output_type": "stream",
     "text": [
      "Writing ../src/studio_agent.py\n"
     ]
    }
   ],
   "source": [
    "%%writefile ../src/studio_agent.py\n",
    "\n",
    "\"\"\"\n",
    "LangGraph Studio Entry Point for Space Biology Knowledge Engine\n",
    "\n",
    "This file provides the graph object that LangGraph Studio expects.\n",
    "\"\"\"\n",
    "\n",
    "from langgraph.checkpoint.memory import InMemorySaver\n",
    "from src.master_research_workflow import create_master_research_workflow\n",
    "\n",
    "# Create the graph with checkpointer for Studio\n",
    "def create_studio_graph():\n",
    "    \"\"\"Create graph compatible with LangGraph Studio.\"\"\"\n",
    "    \n",
    "    # Create checkpointer for conversation memory\n",
    "    checkpointer = InMemorySaver()\n",
    "    \n",
    "    # Create and compile the workflow with checkpointer\n",
    "    workflow = create_master_research_workflow()\n",
    "    \n",
    "    # Note: If your workflow is already compiled, we need to rebuild with checkpointer\n",
    "    from langgraph.graph import StateGraph, START, END\n",
    "    from src.master_state import MasterResearchState\n",
    "    from src.research_orchestrator import (\n",
    "        research_orchestrator,\n",
    "        scoping_node, \n",
    "        retrieval_node,\n",
    "        synthesis_node,\n",
    "        route_next_step\n",
    "    )\n",
    "    \n",
    "    # Rebuild workflow with checkpointer\n",
    "    studio_workflow = StateGraph(MasterResearchState)\n",
    "    \n",
    "    # Add nodes\n",
    "    studio_workflow.add_node(\"orchestrator\", research_orchestrator)\n",
    "    studio_workflow.add_node(\"scoping\", scoping_node)\n",
    "    studio_workflow.add_node(\"retrieval\", retrieval_node)\n",
    "    studio_workflow.add_node(\"synthesis\", synthesis_node)\n",
    "    \n",
    "    # Add edges\n",
    "    studio_workflow.add_edge(START, \"orchestrator\")\n",
    "    studio_workflow.add_conditional_edges(\n",
    "        \"orchestrator\",\n",
    "        route_next_step,\n",
    "        {\n",
    "            \"scoping\": \"scoping\",\n",
    "            \"retrieval\": \"retrieval\", \n",
    "            \"synthesis\": \"synthesis\",\n",
    "            \"__end__\": END\n",
    "        }\n",
    "    )\n",
    "    studio_workflow.add_edge(\"scoping\", \"orchestrator\")\n",
    "    studio_workflow.add_edge(\"retrieval\", \"orchestrator\") \n",
    "    studio_workflow.add_edge(\"synthesis\", END)\n",
    "    \n",
    "    return studio_workflow.compile(checkpointer=checkpointer)\n",
    "\n",
    "# Create the graph instance that Studio expects\n",
    "graph = create_studio_graph()"
   ]
  },
  {
   "cell_type": "code",
   "execution_count": 4,
   "id": "d42b60cf",
   "metadata": {},
   "outputs": [
    {
     "name": "stdout",
     "output_type": "stream",
     "text": [
      "Writing ../requirements.txt\n"
     ]
    }
   ],
   "source": [
    "%%writefile ../requirements.txt\n",
    "langchain==0.2.16\n",
    "langchain-openai==0.1.23\n",
    "langchain-community==0.2.16\n",
    "langchain-huggingface==0.0.3\n",
    "langgraph==0.2.14\n",
    "qdrant-client==1.10.1\n",
    "python-dotenv==1.0.1\n",
    "pypdf==4.3.1\n",
    "rich==13.7.1\n",
    "jupyter==1.0.0"
   ]
  },
  {
   "cell_type": "code",
   "execution_count": null,
   "id": "bdd8702f",
   "metadata": {},
   "outputs": [],
   "source": []
  }
 ],
 "metadata": {
  "kernelspec": {
   "display_name": "SPACE-BIOLOGY-KNOWLEDGE-ENGINE",
   "language": "python",
   "name": "python3"
  },
  "language_info": {
   "codemirror_mode": {
    "name": "ipython",
    "version": 3
   },
   "file_extension": ".py",
   "mimetype": "text/x-python",
   "name": "python",
   "nbconvert_exporter": "python",
   "pygments_lexer": "ipython3",
   "version": "3.11.13"
  }
 },
 "nbformat": 4,
 "nbformat_minor": 5
}
